{
 "cells": [
  {
   "cell_type": "markdown",
   "id": "b7ef0520-53f4-4c3d-841b-930112ab5458",
   "metadata": {},
   "source": [
    "# Finding the worker which one is performing best  (By Using F-test)"
   ]
  },
  {
   "cell_type": "code",
   "execution_count": 1,
   "id": "b1151e13-de63-442e-983a-1ecbbb545c4f",
   "metadata": {},
   "outputs": [],
   "source": [
    "# Evidence to say that the two population variances are not equal."
   ]
  },
  {
   "cell_type": "code",
   "execution_count": 2,
   "id": "78be4e66-a964-44b2-b663-5e432b382430",
   "metadata": {},
   "outputs": [],
   "source": [
    "worker_1 = [18,19,22,25,27,28,41,45,51,55]\n",
    "worker_2 = [14,15,15,17,18,22,25,25,27,34]"
   ]
  },
  {
   "cell_type": "code",
   "execution_count": 5,
   "id": "07a14439-89e4-4d57-817d-598bff94a21b",
   "metadata": {},
   "outputs": [],
   "source": [
    "# Calculating F-test\n",
    "import numpy as np\n",
    "f_test = np.var(worker_1)/np.var(worker_2)"
   ]
  },
  {
   "cell_type": "code",
   "execution_count": 6,
   "id": "e09b1923-c290-4b57-abda-034fec19a47c",
   "metadata": {},
   "outputs": [
    {
     "data": {
      "text/plain": [
       "4.387122002085506"
      ]
     },
     "execution_count": 6,
     "metadata": {},
     "output_type": "execute_result"
    }
   ],
   "source": [
    "f_test"
   ]
  },
  {
   "cell_type": "code",
   "execution_count": 9,
   "id": "9fb59909-127b-472d-8750-7aa78859f6ae",
   "metadata": {},
   "outputs": [],
   "source": [
    "# Finding degree of freedom.\n",
    "df1 = len(worker_1)-1\n",
    "df2 = len(worker_2)-1\n",
    "significance_value = 0.05"
   ]
  },
  {
   "cell_type": "code",
   "execution_count": 10,
   "id": "85c1a4e0-1fee-4c88-a329-b8528ff1dd4a",
   "metadata": {},
   "outputs": [],
   "source": [
    "import scipy.stats as stat"
   ]
  },
  {
   "cell_type": "code",
   "execution_count": 13,
   "id": "7471c0b6-6cde-4baa-9520-f5803c8589d7",
   "metadata": {},
   "outputs": [],
   "source": [
    "critical_value = stat.f.ppf(q = 1-significance_value, dfn = df1, dfd = df2)"
   ]
  },
  {
   "cell_type": "code",
   "execution_count": 14,
   "id": "c7755d68-1abe-4a7d-a4e4-b33cbc182273",
   "metadata": {},
   "outputs": [
    {
     "data": {
      "text/plain": [
       "3.178893104458269"
      ]
     },
     "execution_count": 14,
     "metadata": {},
     "output_type": "execute_result"
    }
   ],
   "source": [
    "critical_value"
   ]
  },
  {
   "cell_type": "code",
   "execution_count": 15,
   "id": "57e1176c-a584-429c-b500-11f20a3e7cd0",
   "metadata": {},
   "outputs": [
    {
     "name": "stdout",
     "output_type": "stream",
     "text": [
      "Reject the Null Hypothesis\n"
     ]
    }
   ],
   "source": [
    "if f_test > critical_value :\n",
    "    print(\"Reject the Null Hypothesis\")\n",
    "else:\n",
    "    print(\"We fail to reject the Null Hypothesis\")"
   ]
  },
  {
   "cell_type": "markdown",
   "id": "f84336c0-08b8-453c-925f-b8eff25f1823",
   "metadata": {},
   "source": [
    "# A statistician was carrying out an F-Test. He got the F statistic as 2.38. \n",
    "# The degrees of freedom obtained by him were 8 and 3. Find out the F value from the F Table and determine \n",
    "# whether we can reject the null hypothesis at a 5% significance level (one-tailed test)."
   ]
  },
  {
   "cell_type": "code",
   "execution_count": null,
   "id": "74c8bf79-5a52-4df9-90da-21b103d41850",
   "metadata": {},
   "outputs": [],
   "source": []
  }
 ],
 "metadata": {
  "kernelspec": {
   "display_name": "Python 3 (ipykernel)",
   "language": "python",
   "name": "python3"
  },
  "language_info": {
   "codemirror_mode": {
    "name": "ipython",
    "version": 3
   },
   "file_extension": ".py",
   "mimetype": "text/x-python",
   "name": "python",
   "nbconvert_exporter": "python",
   "pygments_lexer": "ipython3",
   "version": "3.10.8"
  }
 },
 "nbformat": 4,
 "nbformat_minor": 5
}
